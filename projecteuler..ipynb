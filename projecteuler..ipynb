{
 "cells": [
  {
   "cell_type": "markdown",
   "metadata": {},
   "source": [
    "This project contrains Questions and answers from websites \n",
    "https://projecteuler.net/archives\n",
    "Another other websites are found here, but will benotes if anywehre diffferent than Euler!\n",
    "https://codingbat.com/python"
   ]
  },
  {
   "cell_type": "code",
   "execution_count": null,
   "metadata": {},
   "outputs": [],
   "source": []
  }
 ],
 "metadata": {
  "language_info": {
   "name": "python"
  },
  "orig_nbformat": 4
 },
 "nbformat": 4,
 "nbformat_minor": 2
}
