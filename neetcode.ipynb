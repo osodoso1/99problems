{
 "cells": [
  {
   "cell_type": "markdown",
   "metadata": {},
   "source": [
    "217. Contains Duplicate\n",
    "https://leetcode.com/problems/contains-duplicate/\n",
    "- we will attempt tbis problem with the hash data strucutre approach \n",
    "-this approach stoes hash data strucutre easily entounter elements\n",
    "- relaize that use cases alreday store values \n",
    "- realize when you look in console that nums is already there as use case!"
   ]
  },
  {
   "cell_type": "code",
   "execution_count": 9,
   "metadata": {},
   "outputs": [
    {
     "name": "stdout",
     "output_type": "stream",
     "text": [
      "<class '__main__.Solution'>\n"
     ]
    }
   ],
   "source": [
    "#217\n",
    "from typing import List\n",
    "class Solution:\n",
    "    def containsDuplicate(self, nums: List[int]) -> bool:\n",
    "        seen = set()\n",
    "        for num in nums:\n",
    "            if num in seen:\n",
    "                return True\n",
    "            seen.add(num)\n",
    "        return False\n",
    "nums = [1,2,3,4,4]\n",
    "print(Solution)"
   ]
  },
  {
   "cell_type": "markdown",
   "metadata": {},
   "source": [
    "217. Contains Duplicate\n",
    "#easiest way is to brute force it\n",
    "O(n) to check if its a duplicate  overall its going to be O(n^2) for time space is O(1)\n",
    "- we can sort the array to make it faster for duplicates \n",
    "    - allows for iteration once\n",
    "O(logn) is that time sorting takes \n",
    "-Making a hashset is the most efecient "
   ]
  },
  {
   "cell_type": "code",
   "execution_count": 10,
   "metadata": {},
   "outputs": [],
   "source": [
    "class Solution:\n",
    "    def containsDuplicate(self, nums: List[int]) -> bool:\n",
    "        hashset = set()\n",
    "        for n in nums: \n",
    "            if n in hashset:\n",
    "                return True\n",
    "            hasshet.add(n)\n",
    "            return False"
   ]
  },
  {
   "cell_type": "code",
   "execution_count": null,
   "metadata": {},
   "outputs": [],
   "source": [
    "#242. Valid Anagram\n",
    "class Solution:\n",
    "    def isAnagram(self, s: str, t: str) -> bool:\n",
    "        if len(s) != len(t):\n",
    "            return False\n",
    "        #make Map\n",
    "        countS, countT = {},{} \n",
    "        for i in range(len(s)):\n",
    "            #counts occurence of each charaacter \n",
    "            countS[s[i]] = 1 + countS.get[s[i], 0]\n",
    "            countT[t[i]] = 1 + countT.get[t[i], 0]\n",
    "        for c in countS:\n",
    "            if countS[c] != countT.get(c, 0):\n",
    "                return False\n",
    "            return True\n",
    "        \n",
    "    ######\n",
    "    return Counter(s) == Counter(t)\n",
    "#######\n",
    "    return sorted(t) == returtn sorted(s)"
   ]
  }
 ],
 "metadata": {
  "kernelspec": {
   "display_name": "base",
   "language": "python",
   "name": "python3"
  },
  "language_info": {
   "codemirror_mode": {
    "name": "ipython",
    "version": 3
   },
   "file_extension": ".py",
   "mimetype": "text/x-python",
   "name": "python",
   "nbconvert_exporter": "python",
   "pygments_lexer": "ipython3",
   "version": "3.11.1"
  },
  "orig_nbformat": 4
 },
 "nbformat": 4,
 "nbformat_minor": 2
}
